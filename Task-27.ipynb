{
  "nbformat": 4,
  "nbformat_minor": 0,
  "metadata": {
    "colab": {
      "name": "Task-27.ipynb",
      "provenance": []
    },
    "kernelspec": {
      "name": "python3",
      "display_name": "Python 3"
    },
    "language_info": {
      "name": "python"
    }
  },
  "cells": [
    {
      "cell_type": "code",
      "metadata": {
        "colab": {
          "base_uri": "https://localhost:8080/"
        },
        "id": "bpgA5IDLzJWw",
        "outputId": "97d23668-9eb8-4844-c001-a3049fcec5a9"
      },
      "source": [
        "import csv\n",
        "import pandas as pd\n",
        "import requests\n",
        "from bs4 import BeautifulSoup\n",
        "\n",
        "r = requests.get('https://mlfromscratch.com/web-scraping-machine-learning/#/')\n",
        "soup = BeautifulSoup(r.text, 'lxml')\n",
        "f = csv.writer(open(' dataprocessing.csv ','w'))\n",
        "f.writerow(['Title'])\n",
        "f.writerow([soup.title.text])"
      ],
      "execution_count": 2,
      "outputs": [
        {
          "output_type": "execute_result",
          "data": {
            "text/plain": [
              "55"
            ]
          },
          "metadata": {
            "tags": []
          },
          "execution_count": 2
        }
      ]
    },
    {
      "cell_type": "code",
      "metadata": {
        "id": "t-WcHTZH0EvZ"
      },
      "source": [
        ""
      ],
      "execution_count": null,
      "outputs": []
    }
  ]
}