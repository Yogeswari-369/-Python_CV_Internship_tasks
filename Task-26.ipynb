{
  "nbformat": 4,
  "nbformat_minor": 0,
  "metadata": {
    "colab": {
      "name": "Task-26.ipynb",
      "provenance": []
    },
    "kernelspec": {
      "name": "python3",
      "display_name": "Python 3"
    },
    "language_info": {
      "name": "python"
    }
  },
  "cells": [
    {
      "cell_type": "code",
      "metadata": {
        "colab": {
          "base_uri": "https://localhost:8080/"
        },
        "id": "X9ULAMaYWk-5",
        "outputId": "c2137d00-94eb-4241-cfa3-70bf2e6d7ff3"
      },
      "source": [
        "# Enumerate a python list and try to print the counter with the list value\n",
        "\n",
        "a=['CSE','IT','ECE','EEE','MECH']\n",
        "b=enumerate(a)\n",
        "print(list(b))\n"
      ],
      "execution_count": 1,
      "outputs": [
        {
          "output_type": "stream",
          "text": [
            "[(0, 'CSE'), (1, 'IT'), (2, 'ECE'), (3, 'EEE'), (4, 'MECH')]\n"
          ],
          "name": "stdout"
        }
      ]
    },
    {
      "cell_type": "code",
      "metadata": {
        "colab": {
          "base_uri": "https://localhost:8080/"
        },
        "id": "Xw6lYCOiWxTl",
        "outputId": "353f78de-d128-42be-a7cd-3719fb80494b"
      },
      "source": [
        "# Enumerate a python tuple and try to print the counter with the tuple value\n",
        "\n",
        "x=['CSE','IT','ECE','EEE','MECH']\n",
        "print(tuple(enumerate(x)))"
      ],
      "execution_count": 2,
      "outputs": [
        {
          "output_type": "stream",
          "text": [
            "((0, 'CSE'), (1, 'IT'), (2, 'ECE'), (3, 'EEE'), (4, 'MECH'))\n"
          ],
          "name": "stdout"
        }
      ]
    }
  ]
}