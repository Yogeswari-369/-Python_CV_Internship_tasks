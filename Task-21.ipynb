{
  "nbformat": 4,
  "nbformat_minor": 0,
  "metadata": {
    "colab": {
      "name": "Task-21.ipynb",
      "provenance": []
    },
    "kernelspec": {
      "name": "python3",
      "display_name": "Python 3"
    },
    "language_info": {
      "name": "python"
    }
  },
  "cells": [
    {
      "cell_type": "code",
      "metadata": {
        "id": "xDcfbe8wEDDA"
      },
      "source": [
        "# 1.\tWrite a program using zip() function and list() function, create a merged list of tuples from the two lists given."
      ],
      "execution_count": null,
      "outputs": []
    },
    {
      "cell_type": "code",
      "metadata": {
        "colab": {
          "base_uri": "https://localhost:8080/"
        },
        "id": "FKRNSbh4EHDy",
        "outputId": "e54467d8-36d3-4ac0-b528-817bfcc3db12"
      },
      "source": [
        "a=(\"1\",\"2\",\"3\",\"4\",\"5\")\n",
        "b=(\"6\",\"7\",\"8\",\"9\",\"10\")\n",
        "c=zip(a,b)\n",
        "print(c)\n"
      ],
      "execution_count": 1,
      "outputs": [
        {
          "output_type": "stream",
          "text": [
            "<zip object at 0x7f5d2a5cff00>\n"
          ],
          "name": "stdout"
        }
      ]
    },
    {
      "cell_type": "code",
      "metadata": {
        "colab": {
          "base_uri": "https://localhost:8080/"
        },
        "id": "OaZfOYLLFmCR",
        "outputId": "8ee3e937-9d42-475e-93ab-1293f4633f54"
      },
      "source": [
        "list(c)"
      ],
      "execution_count": 2,
      "outputs": [
        {
          "output_type": "execute_result",
          "data": {
            "text/plain": [
              "[('1', '6'), ('2', '7'), ('3', '8'), ('4', '9'), ('5', '10')]"
            ]
          },
          "metadata": {
            "tags": []
          },
          "execution_count": 2
        }
      ]
    },
    {
      "cell_type": "code",
      "metadata": {
        "id": "p7XfZfNSFp6U"
      },
      "source": [
        "# 2. First create a range from 1 to 8. Then using zip, merge the given list and the range together to create a new list of tuples\n",
        "\n"
      ],
      "execution_count": 5,
      "outputs": []
    },
    {
      "cell_type": "code",
      "metadata": {
        "id": "vszb4U-2F_Gt"
      },
      "source": [
        "x=range(1,8)\n",
        "y=[11,12,13,14,15,16,17,18]\n",
        "z=zip(x,y)"
      ],
      "execution_count": 6,
      "outputs": []
    },
    {
      "cell_type": "code",
      "metadata": {
        "colab": {
          "base_uri": "https://localhost:8080/"
        },
        "id": "3ooBywYtGFnZ",
        "outputId": "d85c8caa-3866-4259-d86c-1b01347c10fb"
      },
      "source": [
        "tuple(z)"
      ],
      "execution_count": 7,
      "outputs": [
        {
          "output_type": "execute_result",
          "data": {
            "text/plain": [
              "((1, 11), (2, 12), (3, 13), (4, 14), (5, 15), (6, 16), (7, 17))"
            ]
          },
          "metadata": {
            "tags": []
          },
          "execution_count": 7
        }
      ]
    },
    {
      "cell_type": "code",
      "metadata": {
        "id": "8bh-z3uXGJU1"
      },
      "source": [
        "# 3.\tUsing sorted() function, sort the list in ascending order."
      ],
      "execution_count": null,
      "outputs": []
    },
    {
      "cell_type": "code",
      "metadata": {
        "colab": {
          "base_uri": "https://localhost:8080/"
        },
        "id": "5doQztDhGPot",
        "outputId": "affebec1-7c52-44d4-99d0-8757f5dceb5f"
      },
      "source": [
        "a=[10,5,7,8,2,4,1,9,4,3]\n",
        "print(\"Before Sorting:\",a)\n",
        "\n"
      ],
      "execution_count": 9,
      "outputs": [
        {
          "output_type": "stream",
          "text": [
            "Before Sorting: [10, 5, 7, 8, 2, 4, 1, 9, 4, 3]\n"
          ],
          "name": "stdout"
        }
      ]
    },
    {
      "cell_type": "code",
      "metadata": {
        "colab": {
          "base_uri": "https://localhost:8080/"
        },
        "id": "t_x5HOLJGWWO",
        "outputId": "c0649c74-7973-4e70-fa73-45b1306e6f49"
      },
      "source": [
        "a=sorted(a)\n",
        "print(\"After Sorting:\",a)"
      ],
      "execution_count": 10,
      "outputs": [
        {
          "output_type": "stream",
          "text": [
            "After Sorting: [1, 2, 3, 4, 4, 5, 7, 8, 9, 10]\n"
          ],
          "name": "stdout"
        }
      ]
    },
    {
      "cell_type": "code",
      "metadata": {
        "id": "QiA-iRGdGY9c"
      },
      "source": [
        "# 4.\tWrite a program using filter function, filter the even numbers so that only odd numbers are passed to the new list."
      ],
      "execution_count": null,
      "outputs": []
    },
    {
      "cell_type": "code",
      "metadata": {
        "id": "6rnr1DyZGhG4"
      },
      "source": [
        "a=[1,2,3,4,5,6,7,8,9]\n"
      ],
      "execution_count": 12,
      "outputs": []
    },
    {
      "cell_type": "code",
      "metadata": {
        "id": "n6zFDhb8G3S7"
      },
      "source": [
        "def even(x):\n",
        "  if (x%2==0):\n",
        "    return True\n",
        "  else:\n",
        "    return False"
      ],
      "execution_count": 14,
      "outputs": []
    },
    {
      "cell_type": "code",
      "metadata": {
        "colab": {
          "base_uri": "https://localhost:8080/"
        },
        "id": "Hr66dBRvGr1l",
        "outputId": "e01cbd2b-633d-4cc9-c5ad-fae9ef782d17"
      },
      "source": [
        "list_even=list(filter(even,a))\n",
        "print(list_even)\n"
      ],
      "execution_count": 15,
      "outputs": [
        {
          "output_type": "stream",
          "text": [
            "[2, 4, 6, 8]\n"
          ],
          "name": "stdout"
        }
      ]
    },
    {
      "cell_type": "code",
      "metadata": {
        "colab": {
          "base_uri": "https://localhost:8080/"
        },
        "id": "1ElzmWFNG9AP",
        "outputId": "f9646353-f035-48b1-c320-f89166e9978f"
      },
      "source": [
        "list_odd=[]\n",
        "for i in a:\n",
        "  if i not in list_even:\n",
        "    list_odd.append(i)\n",
        "print(\"Odd numbers\")\n",
        "print(list_odd)"
      ],
      "execution_count": 16,
      "outputs": [
        {
          "output_type": "stream",
          "text": [
            "Odd numbers\n",
            "[1, 3, 5, 7, 9]\n"
          ],
          "name": "stdout"
        }
      ]
    }
  ]
}