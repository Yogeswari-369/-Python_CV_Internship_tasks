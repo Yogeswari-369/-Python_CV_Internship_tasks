{
  "nbformat": 4,
  "nbformat_minor": 0,
  "metadata": {
    "colab": {
      "name": "Task-28.ipynb",
      "provenance": []
    },
    "kernelspec": {
      "name": "python3",
      "display_name": "Python 3"
    },
    "language_info": {
      "name": "python"
    }
  },
  "cells": [
    {
      "cell_type": "code",
      "metadata": {
        "colab": {
          "base_uri": "https://localhost:8080/"
        },
        "id": "F5x4KxBda1pb",
        "outputId": "28037fed-c1d9-494b-fab9-98f89ba37d98"
      },
      "source": [
        " # Write a Python multithreading program to print current date.\n",
        "\n",
        "\n",
        "import threading\n",
        "import datetime\n",
        "\n",
        "class myThread (threading.Thread):\n",
        "    def __init__(self, name, counter):\n",
        "        threading.Thread.__init__(self)\n",
        "        self.threadID = counter\n",
        "        self.name = name\n",
        "        self.counter = counter\n",
        "    def run(self):\n",
        "        print(\"\\nStarting \" + self.name)\n",
        "        print_date(self.name, self.counter)\n",
        "        print(\"Exiting \" + self.name)\n",
        "\n",
        "def print_date(threadName, counter):\n",
        "    datefields = []\n",
        "    today = datetime.date.today()\n",
        "    datefields.append(today)\n",
        "    print(\"{}[{}]: {}\".format( threadName, counter, datefields[0] ))\n",
        "\n",
        "# Create new threads\n",
        "thread1 = myThread(\"Thread\", 1)\n",
        "thread2 = myThread(\"Thread\", 2)\n",
        "\n",
        "# Start new Threads\n",
        "thread1.start()\n",
        "thread2.start()\n",
        "\n",
        "thread1.join()\n",
        "thread2.join()\n",
        "print(\"\\nExiting the Program!!!\")"
      ],
      "execution_count": 1,
      "outputs": [
        {
          "output_type": "stream",
          "text": [
            "\n",
            "Starting Thread\n",
            "Thread[1]: 2021-07-14\n",
            "Exiting Thread\n",
            "\n",
            "Starting Thread\n",
            "Thread[2]: 2021-07-14\n",
            "Exiting Thread\n",
            "\n",
            "Exiting the Program!!!\n"
          ],
          "name": "stdout"
        }
      ]
    },
    {
      "cell_type": "code",
      "metadata": {
        "id": "McRC1Z4UbRMn"
      },
      "source": [
        "#  Define a subclass using threading.Thread class.\n",
        "\n",
        "\n",
        "import threading\n",
        "import time\n",
        "exitFlag = 0\n",
        "def print_time(threadName, counter, delay):\n",
        "     while counter:\n",
        "        if exitFlag:\n",
        "            threadName.exit()\n",
        "            time.sleep(delay)\n",
        "            print(\"%s: %s\" % (threadName, time.ctime(time.time())))\n",
        "            counter -= 1\n",
        "\n",
        "class myThread(threading.Thread):\n",
        "    def __init__(self, threadID, name, counter):\n",
        "        threading.Thread.__init__(self)\n",
        "        self.threadID = threadID\n",
        "        self.name = name\n",
        "        self.counter = counter\n",
        "    def run(self):\n",
        "        print(\"Starting \" + self.name)\n",
        "        print_time(self.name, 5, self.counter)\n",
        "        print( \"Exiting \" + self.name)"
      ],
      "execution_count": 3,
      "outputs": []
    },
    {
      "cell_type": "code",
      "metadata": {
        "colab": {
          "base_uri": "https://localhost:8080/"
        },
        "id": "gnxMuhcDbbIW",
        "outputId": "6b957dea-e0cd-44ce-fb9b-c1aaf76a57cc"
      },
      "source": [
        "# Instantiate the subclass and trigger the thread.\n",
        "\n",
        "\n",
        "\n",
        "thread1 = myThread(1, \"Thread-1\", 1)\n",
        "thread2 = myThread(2, \"Thread-2\", 2)\n",
        "thread1.start()\n",
        "thread2.start()\n",
        "\n",
        "print(\"Exiting Main Thread\")"
      ],
      "execution_count": 4,
      "outputs": [
        {
          "output_type": "stream",
          "text": [
            "Starting Thread-1\n",
            "Starting Thread-2\n",
            "Exiting Main Thread\n"
          ],
          "name": "stdout"
        }
      ]
    }
  ]
}