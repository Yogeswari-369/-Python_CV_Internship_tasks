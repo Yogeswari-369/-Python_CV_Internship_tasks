{
  "nbformat": 4,
  "nbformat_minor": 0,
  "metadata": {
    "colab": {
      "name": "Task-25.ipynb",
      "provenance": []
    },
    "kernelspec": {
      "name": "python3",
      "display_name": "Python 3"
    },
    "language_info": {
      "name": "python"
    }
  },
  "cells": [
    {
      "cell_type": "code",
      "metadata": {
        "colab": {
          "base_uri": "https://localhost:8080/"
        },
        "id": "yixZoyimC0Sd",
        "outputId": "4ae334c5-68eb-419f-82cd-96d4e41c849d"
      },
      "source": [
        "# 1. Write a Python program to convert a string to datetime \n",
        "\n",
        "\n",
        "from dateutil import parser\n",
        "date_time = parser.parse(\"July 09 2021 10:00PM\")\n",
        "print(date_time)"
      ],
      "execution_count": 5,
      "outputs": [
        {
          "output_type": "stream",
          "text": [
            "2021-07-09 22:00:00\n"
          ],
          "name": "stdout"
        }
      ]
    },
    {
      "cell_type": "code",
      "metadata": {
        "colab": {
          "base_uri": "https://localhost:8080/"
        },
        "id": "JrlzNWIUFf43",
        "outputId": "44246692-3050-48fc-a1a9-1ccf6bb17eb1"
      },
      "source": [
        "# 2.\tWrite a Python program to subtract five days (last working day) from current date\n",
        "\n",
        "\n",
        "\n",
        "from datetime import date,timedelta\n",
        "x=date.today()\n",
        "print(\"Today Date\",x)\n",
        "y=x-timedelta(5)\n",
        "print(y)"
      ],
      "execution_count": 7,
      "outputs": [
        {
          "output_type": "stream",
          "text": [
            "Today Date 2021-07-09\n",
            "2021-07-04\n"
          ],
          "name": "stdout"
        }
      ]
    },
    {
      "cell_type": "code",
      "metadata": {
        "colab": {
          "base_uri": "https://localhost:8080/"
        },
        "id": "5Wto8C7BFx8_",
        "outputId": "41a13b94-cc23-48b3-a778-6a9161586f14"
      },
      "source": [
        "# 3.\tWrite a Python program to convert the date to datetime using a function \n",
        "\n",
        "\n",
        "from datetime import date,datetime\n",
        "dt=datetime.combine(date.today(),datetime.min.time())\n",
        "print(dt)"
      ],
      "execution_count": 8,
      "outputs": [
        {
          "output_type": "stream",
          "text": [
            "2021-07-09 00:00:00\n"
          ],
          "name": "stdout"
        }
      ]
    },
    {
      "cell_type": "code",
      "metadata": {
        "colab": {
          "base_uri": "https://localhost:8080/"
        },
        "id": "xjh0PQx5F8MZ",
        "outputId": "ed20ae9e-34fa-41b6-8fb6-0661fde0627c"
      },
      "source": [
        "# 4.\tWrite a Python program to print next 7 days (week) starting from today\n",
        "\n",
        "\n",
        "import datetime\n",
        "x=datetime.datetime.today()\n",
        "for i in range(0,7):\n",
        "  print(x+datetime.timedelta(days=i))"
      ],
      "execution_count": 10,
      "outputs": [
        {
          "output_type": "stream",
          "text": [
            "2021-07-09 16:27:51.227039\n",
            "2021-07-10 16:27:51.227039\n",
            "2021-07-11 16:27:51.227039\n",
            "2021-07-12 16:27:51.227039\n",
            "2021-07-13 16:27:51.227039\n",
            "2021-07-14 16:27:51.227039\n",
            "2021-07-15 16:27:51.227039\n"
          ],
          "name": "stdout"
        }
      ]
    }
  ]
}