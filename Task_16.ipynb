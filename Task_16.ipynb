{
  "nbformat": 4,
  "nbformat_minor": 0,
  "metadata": {
    "colab": {
      "name": "Task-16.ipynb",
      "provenance": []
    },
    "kernelspec": {
      "name": "python3",
      "display_name": "Python 3"
    },
    "language_info": {
      "name": "python"
    }
  },
  "cells": [
    {
      "cell_type": "code",
      "metadata": {
        "colab": {
          "base_uri": "https://localhost:8080/"
        },
        "id": "bzx2OBuHOu6B",
        "outputId": "69ea36c0-aeb1-454c-816a-6ac533f37a3a"
      },
      "source": [
        " # 1) Create a lambda function that multiplies argument x with argument y\n",
        "\n",
        "\n",
        "a=lambda x,y:x*y\n",
        "print(a(1,2))\n",
        "print(a(10,20))"
      ],
      "execution_count": 2,
      "outputs": [
        {
          "output_type": "stream",
          "text": [
            "2\n",
            "200\n"
          ],
          "name": "stdout"
        }
      ]
    },
    {
      "cell_type": "code",
      "metadata": {
        "colab": {
          "base_uri": "https://localhost:8080/"
        },
        "id": "49YJDfWPPLkw",
        "outputId": "aea6b4a8-41da-49fc-8079-b7d6b756e9e0"
      },
      "source": [
        "# 2) \tWrite a Python program to create Fibonacci series to n using Lambda\n",
        "\n",
        "from functools import reduce\n",
        "fib_series = lambda n: reduce(lambda x, _: x+[x[-1]+x[-2]], range(n-2), [0, 1])\n",
        "print(\"Fibonacci series upto 5:\")\n",
        "print(fib_series(5))\n",
        "print(\"\\nFibonacci series upto 10:\")\n",
        "print(fib_series(10))\n"
      ],
      "execution_count": 4,
      "outputs": [
        {
          "output_type": "stream",
          "text": [
            "Fibonacci series upto 5:\n",
            "[0, 1, 1, 2, 3]\n",
            "\n",
            "Fibonacci series upto 10:\n",
            "[0, 1, 1, 2, 3, 5, 8, 13, 21, 34]\n"
          ],
          "name": "stdout"
        }
      ]
    },
    {
      "cell_type": "code",
      "metadata": {
        "colab": {
          "base_uri": "https://localhost:8080/"
        },
        "id": "KZtQdXcJQJec",
        "outputId": "97aba293-21b1-4ba7-d55e-4cb91a51b3e3"
      },
      "source": [
        "# 3)\tWrite a Python program that multiply each number of given list with a given number \n",
        "\n",
        "l=[1,2,3,4,5,6,7,8,9]\n",
        "print(\"List is:\",l)\n",
        "multiply=3\n",
        "x=list(map(lambda number:number*multiply,l))\n",
        "print(\"After multiply with given number\")\n",
        "print(' '.join(map(str,x)))\n"
      ],
      "execution_count": 16,
      "outputs": [
        {
          "output_type": "stream",
          "text": [
            "List is: [1, 2, 3, 4, 5, 6, 7, 8, 9]\n",
            "After multiply with given number\n",
            "3 6 9 12 15 18 21 24 27\n"
          ],
          "name": "stdout"
        }
      ]
    },
    {
      "cell_type": "code",
      "metadata": {
        "colab": {
          "base_uri": "https://localhost:8080/"
        },
        "id": "yvze-PKWSvbJ",
        "outputId": "04d59b59-21e4-4a37-e5bf-3bfaeeb7a7f5"
      },
      "source": [
        "# 4) \tWrite a Python program to find numbers divisible by 9 from a list of numbers \n",
        "\n",
        "l1=[9,18,26,36,45,67,82,90,108,124]\n",
        "print(\"List is\",l1)\n",
        "l2=list(filter(lambda i:i%9==0,l1))\n",
        "print(' '.join(map(str,l2)))"
      ],
      "execution_count": 19,
      "outputs": [
        {
          "output_type": "stream",
          "text": [
            "List is [9, 18, 26, 36, 45, 67, 82, 90, 108, 124]\n",
            "9 18 36 45 90 108\n"
          ],
          "name": "stdout"
        }
      ]
    },
    {
      "cell_type": "code",
      "metadata": {
        "colab": {
          "base_uri": "https://localhost:8080/"
        },
        "id": "jmLbADhWTEc2",
        "outputId": "658d1cea-dd60-402a-a303-753822b7a227"
      },
      "source": [
        "# 5) Write a Python program to count the even numbers in a given list of integers \n",
        "\n",
        "l3=[0,2,4,6,9,11,12,14,16]\n",
        "print(\"List is:\",l3)\n",
        "l4=list(filter(lambda x:x%2==0,l3))\n",
        "a=len(l4)\n",
        "(print(\"count is:\",a))"
      ],
      "execution_count": 24,
      "outputs": [
        {
          "output_type": "stream",
          "text": [
            "List is: [0, 2, 4, 6, 9, 11, 12, 14, 16]\n",
            "count is: 7\n"
          ],
          "name": "stdout"
        }
      ]
    }
  ]
}